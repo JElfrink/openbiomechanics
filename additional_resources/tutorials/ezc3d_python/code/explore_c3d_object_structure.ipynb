{
 "cells": [
  {
   "cell_type": "code",
   "execution_count": 1,
   "metadata": {},
   "outputs": [],
   "source": [
    "# import package\n",
    "import ezc3d\n",
    "\n",
    "file = 'path to your c3d file'\n",
    "# read in c3d file and assign to variable c\n",
    "c = ezc3d.c3d(file)"
   ]
  },
  {
   "cell_type": "code",
   "execution_count": null,
   "metadata": {},
   "outputs": [],
   "source": [
    "c.keys()\n",
    "# dict_keys(['header', 'parameters', 'data'])"
   ]
  },
  {
   "cell_type": "code",
   "execution_count": null,
   "metadata": {},
   "outputs": [],
   "source": [
    "c['header'].keys()\n",
    "# dict_keys(['points', 'analogs', 'events'])"
   ]
  },
  {
   "cell_type": "code",
   "execution_count": null,
   "metadata": {},
   "outputs": [],
   "source": [
    "c['header']['points'].keys()\n",
    "# dict_keys(['size', 'frame_rate', 'first_frame', 'last_frame'])"
   ]
  },
  {
   "cell_type": "code",
   "execution_count": null,
   "metadata": {},
   "outputs": [],
   "source": [
    "x = c['header']['points']['size']\n",
    "print(x, type(x))\n",
    "# 45 <class 'int'>"
   ]
  },
  {
   "cell_type": "code",
   "execution_count": null,
   "metadata": {},
   "outputs": [],
   "source": [
    "num_markers = c['header']['points']['size']"
   ]
  }
 ],
 "metadata": {
  "kernelspec": {
   "display_name": "Python 3",
   "language": "python",
   "name": "python3"
  },
  "language_info": {
   "codemirror_mode": {
    "name": "ipython",
    "version": 3
   },
   "file_extension": ".py",
   "mimetype": "text/x-python",
   "name": "python",
   "nbconvert_exporter": "python",
   "pygments_lexer": "ipython3",
   "version": "3.8.8 (default, Feb 24 2021, 15:54:32) [MSC v.1928 64 bit (AMD64)]"
  },
  "orig_nbformat": 4,
  "vscode": {
   "interpreter": {
    "hash": "f9e2bd19b3dea8f1fa2a3c55ad93bed0a40f5bf62b4a251cf12ddb11242bb49f"
   }
  }
 },
 "nbformat": 4,
 "nbformat_minor": 2
}
