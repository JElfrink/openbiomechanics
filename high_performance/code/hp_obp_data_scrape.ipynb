{
 "cells": [
  {
   "cell_type": "code",
   "execution_count": 16,
   "metadata": {},
   "outputs": [],
   "source": [
    "import os\n",
    "import pandas as pd\n",
    "import numpy as np\n",
    "from sqlalchemy import create_engine\n",
    "\n",
    "save_path = r'c:\\users\\kyle.wasserberger\\downloads'\n",
    "\n",
    "db_config = {'user': os.environ.get('CLUSTER_USERNAME_COMPUTER_VISION_CLUSTER'),\n",
    "             'password': os.environ.get('CLUSTER_PASSWORD_COMPUTER_VISION_CLUSTER'),\n",
    "             'host': os.environ.get('CLUSTER_HOST_COMPUTER_VISION_CLUSTER'),\n",
    "             'port': int(os.environ.get('CLUSTER_PORT_COMPUTER_VISION_CLUSTER')),\n",
    "             'dbname': os.environ.get('DATABASE_HP_DATA')}\n",
    "\n",
    "connection_string = f\"mysql+pymysql://{db_config['user']}:{db_config['password']}@{db_config['host']}:{db_config['port']}/{db_config['dbname']}\"\n",
    "\n",
    "engine = create_engine(connection_string)"
   ]
  },
  {
   "cell_type": "code",
   "execution_count": 17,
   "metadata": {},
   "outputs": [],
   "source": [
    "query = '''SELECT *\n",
    "FROM `hp_tests`\n",
    "WHERE `playing_level` IS NOT NULL\n",
    "  AND (`bat_speed_mph_group` IS NOT NULL OR `pitch_speed_mph_group` IS NOT NULL)\n",
    "  AND (`pitching_session_date` IS NOT NULL OR `hitting_session_date` IS NOT NULL)\n",
    "ORDER BY test_date;'''\n",
    "\n",
    "df = pd.read_sql(query, engine)"
   ]
  },
  {
   "cell_type": "code",
   "execution_count": 18,
   "metadata": {},
   "outputs": [],
   "source": [
    "columns_to_drop = ['athlete', 'athlete_name', 'traq_id', 'eur']\n",
    "predicted_cols = df.columns[df.columns.str.contains('predicted')]\n",
    "session_id_cols = df.columns[df.columns.str.contains('session_id')]\n",
    "hip_rom_cols = df.columns[df.columns.str.contains('Hip')]\n",
    "seal_row_cols = df.columns[df.columns.str.contains('seal')]\n",
    "\n",
    "df.drop(columns=columns_to_drop, inplace=True)\n",
    "df.drop(columns=predicted_cols, inplace=True)\n",
    "df.drop(columns=session_id_cols, inplace=True)\n",
    "df.drop(columns=hip_rom_cols, inplace=True)\n",
    "df.drop(columns=seal_row_cols, inplace=True)\n",
    "\n",
    "df.to_csv(os.path.join(save_path, 'hp_tests.csv'), index=False)"
   ]
  }
 ],
 "metadata": {
  "kernelspec": {
   "display_name": "base",
   "language": "python",
   "name": "python3"
  },
  "language_info": {
   "codemirror_mode": {
    "name": "ipython",
    "version": 3
   },
   "file_extension": ".py",
   "mimetype": "text/x-python",
   "name": "python",
   "nbconvert_exporter": "python",
   "pygments_lexer": "ipython3",
   "version": "3.11.5"
  }
 },
 "nbformat": 4,
 "nbformat_minor": 2
}
